{
 "cells": [
  {
   "cell_type": "code",
   "execution_count": 1,
   "metadata": {},
   "outputs": [
    {
     "name": "stdout",
     "output_type": "stream",
     "text": [
      "Total Unique Users: 4\n"
     ]
    }
   ],
   "source": [
    "transactions = [\n",
    "    (101, 1, 250),\n",
    "    (102, 2, 300),\n",
    "    (103, 3, 150),\n",
    "    (104, 1, 400),\n",
    "    (105, 4, 400),\n",
    "]\n",
    "\n",
    "def unique_user(transactions):\n",
    "    user = {transaction[1] for transaction in transactions}\n",
    "\n",
    "    return len(user)\n",
    "\n",
    "\n",
    "unique = unique_user(transactions)\n",
    "print(\"Total Unique Users:\",unique)\n"
   ]
  },
  {
   "cell_type": "code",
   "execution_count": 2,
   "metadata": {},
   "outputs": [
    {
     "name": "stdout",
     "output_type": "stream",
     "text": [
      "Transaction with Highest Amount: (105, 4, 500)\n"
     ]
    }
   ],
   "source": [
    "transactions = [\n",
    "    (101, 1, 250),\n",
    "    (102, 2, 300),\n",
    "    (103, 3, 150),\n",
    "    (104, 1, 400),\n",
    "    (105, 4, 500),\n",
    "]\n",
    "def highest_transaction(transactions):\n",
    "    def function(x):\n",
    "        return x[2]\n",
    "    highest = max(transactions, key=function)\n",
    "    return highest\n",
    "\n",
    "max_transaction = highest_transaction(transactions)\n",
    "print(\"Transaction with Highest Amount:\", max_transaction)\n"
   ]
  },
  {
   "cell_type": "code",
   "execution_count": 3,
   "metadata": {},
   "outputs": [
    {
     "name": "stdout",
     "output_type": "stream",
     "text": [
      "All transactions are valid.\n",
      "Transaction IDs: [11, 22, 33, 44, 55]\n",
      "User IDs: [1, 2, 3, 1, 4]\n"
     ]
    }
   ],
   "source": [
    "transactions = [\n",
    "    (11, 1, 250),\n",
    "    (22, 2, 300),\n",
    "    (33, 3, 150),\n",
    "    (44, 1, 400),\n",
    "    (55, 4, 500),\n",
    "]\n",
    "def extract_id(transactions):\n",
    "    t_id = [transaction[0] for transaction in transactions]\n",
    "    user_id = [transaction[1] for transaction in transactions]\n",
    "\n",
    "    return t_id, user_id\n",
    "# i have mentioned this func in case tuple size(3 in my task) throws error\n",
    "def validate_transactions(transactions, lenght=3):\n",
    "    for transaction in transactions:\n",
    "        if len(transaction) != lenght:\n",
    "            raise ValueError(f\"Invalid transaction length: {transaction}\")\n",
    "    return True\n",
    "\n",
    "try:\n",
    "    validate_transactions(transactions)\n",
    "    print(\"All transactions are valid.\")\n",
    "except ValueError as e:\n",
    "    print(e)\n",
    "\n",
    "\n",
    "tr_ids, users_id = extract_id(transactions)\n",
    "print(\"Transaction IDs:\", tr_ids)\n",
    "print(\"User IDs:\", users_id)\n"
   ]
  }
 ],
 "metadata": {
  "kernelspec": {
   "display_name": "Python 3",
   "language": "python",
   "name": "python3"
  },
  "language_info": {
   "codemirror_mode": {
    "name": "ipython",
    "version": 3
   },
   "file_extension": ".py",
   "mimetype": "text/x-python",
   "name": "python",
   "nbconvert_exporter": "python",
   "pygments_lexer": "ipython3",
   "version": "3.12.3"
  }
 },
 "nbformat": 4,
 "nbformat_minor": 2
}
