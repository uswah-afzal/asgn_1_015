{
 "cells": [
  {
   "cell_type": "code",
   "execution_count": 14,
   "metadata": {},
   "outputs": [
    {
     "name": "stdout",
     "output_type": "stream",
     "text": [
      "['Parveen', 'afshan']\n"
     ]
    }
   ],
   "source": [
    "users=[\n",
    "    (1, \"Parveen\", 79, \"USA\"),\n",
    "    (2, \"Afzal\", 50, \"singapore\"),\n",
    "    (3, \"afshan\", 48, \"Canada\"),\n",
    "    (4, \"Uswah\", 21, \"pakistan\"),\n",
    "    (5, \"ahamd\", 19, \"canada\"),\n",
    "    (6, \"arfa\", 16, \"usa\"),\n",
    "    (7, \"umaimah\", 10, \"austria\")\n",
    "]\n",
    "\n",
    "def filter_users(users,country,age=30):\n",
    "    filter=[user for user in users if user[2] > age and user[3] in country]\n",
    "    name=[user[1] for user in filter]\n",
    "    return name\n",
    "\n",
    "countries=['USA', 'Canada']\n",
    "filtered_names=filter_users(users, countries)\n",
    "print(filtered_names)\n"
   ]
  },
  {
   "cell_type": "code",
   "execution_count": 15,
   "metadata": {},
   "outputs": [
    {
     "name": "stdout",
     "output_type": "stream",
     "text": [
      "[(1, 'Parveen', 79, 'USA'), (2, 'Afzal', 50, 'singapore'), (3, 'afshan', 48, 'Canada'), (12, 'khalid', 30, 'Japan'), (11, 'fareed', 28, 'Austria'), (10, 'amna', 25, 'Pakistan'), (4, 'Uswah', 21, 'pakistan'), (5, 'ahamd', 19, 'canada'), (9, 'ayesha', 19, 'Canada'), (6, 'arfa', 16, 'usa')]\n"
     ]
    }
   ],
   "source": [
    "users=[\n",
    "    (1, \"Parveen\", 79, \"USA\"),\n",
    "    (2, \"Afzal\", 50, \"singapore\"),\n",
    "    (3, \"afshan\", 48, \"Canada\"),\n",
    "    (4, \"Uswah\", 21, \"pakistan\"),\n",
    "    (5, \"ahamd\", 19, \"canada\"),\n",
    "    (6, \"arfa\", 16, \"usa\"),\n",
    "    (7, \"umaimah\", 10, \"austria\"),\n",
    "    (8, \"ali\", 14, \"Usa\"),\n",
    "    (9, \"ayesha\", 19, \"Canada\"),\n",
    "    (10, \"amna\", 25, \"Pakistan\"),\n",
    "    (11, \"fareed\", 28, \"Austria\"),\n",
    "    (12, \"khalid\", 30, \"Japan\")\n",
    "\n",
    "]\n",
    "\n",
    "def old_users(users):\n",
    "    def function(x):\n",
    "        return x[2]\n",
    "\n",
    "    sorted_users=sorted(users, key=function, reverse=True)\n",
    "\n",
    "    return sorted_users[:10]\n",
    "\n",
    "\n",
    "oldest_10 = old_users(users)\n",
    "print(oldest_10)\n"
   ]
  },
  {
   "cell_type": "code",
   "execution_count": 16,
   "metadata": {},
   "outputs": [
    {
     "name": "stdout",
     "output_type": "stream",
     "text": [
      "['ahmad', 'arfa', 'umaimah']\n"
     ]
    }
   ],
   "source": [
    "users=[\n",
    "    (1, \"Parveen\", 79, \"USA\"),\n",
    "    (2, \"Afzal\", 50, \"singapore\"),\n",
    "    (3, \"afshan\", 48, \"Canada\"),\n",
    "    (4, \"Uswah\", 21, \"pakistan\"),\n",
    "    (5, \"ahmad\", 19, \"canada\"),\n",
    "    (6, \"arfa\", 16, \"usa\"),\n",
    "    (7, \"umaimah\", 10, \"austria\"),\n",
    "    (8, \"ahmad\", 14, \"Usa\"),\n",
    "    (9, \"ayesha\", 19, \"Canada\"),\n",
    "    (10, \"umaimah\", 25, \"Pakistan\"),\n",
    "    (11, \"fareed\", 28, \"Austria\"),\n",
    "    (12, \"arfa\", 30, \"Japan\")\n",
    "\n",
    "]\n",
    "def duplicate_name(users):\n",
    "    count={}\n",
    "    for user in users:\n",
    "        name=user[1]\n",
    "        count[name]=count.get(name, 0) + 1\n",
    "    duplicates=[]\n",
    "    for name, count in count.items():\n",
    "        if count > 1:\n",
    "            duplicates.append(name)\n",
    "    return duplicates\n",
    "\n",
    "\n",
    "dups= duplicate_name(users)\n",
    "print(dups)\n"
   ]
  }
 ],
 "metadata": {
  "kernelspec": {
   "display_name": "Python 3",
   "language": "python",
   "name": "python3"
  },
  "language_info": {
   "codemirror_mode": {
    "name": "ipython",
    "version": 3
   },
   "file_extension": ".py",
   "mimetype": "text/x-python",
   "name": "python",
   "nbconvert_exporter": "python",
   "pygments_lexer": "ipython3",
   "version": "3.12.3"
  }
 },
 "nbformat": 4,
 "nbformat_minor": 2
}
