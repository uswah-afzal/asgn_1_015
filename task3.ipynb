{
 "cells": [
  {
   "cell_type": "code",
   "execution_count": 1,
   "metadata": {},
   "outputs": [
    {
     "name": "stdout",
     "output_type": "stream",
     "text": [
      "Users who visited  Page A or C {2, 3, 4, 8, 9}\n",
      "Users who visited both Page A and  B: {3, 4}\n"
     ]
    }
   ],
   "source": [
    "pageA_visits = {1, 2, 3, 4, 5}\n",
    "pageB_visits = {3, 4, 6, 7}\n",
    "pageC_visits = {1, 5, 8, 9}\n",
    "\n",
    "def common_visits(page_A, page_B):\n",
    "    return page_A & page_B  \n",
    "\n",
    "def uncommon_visits(page_A, page_C):\n",
    "    return page_A ^ page_C\n",
    "\n",
    "inst2 = uncommon_visits(pageA_visits, pageC_visits)\n",
    "print(\"Users who visited  Page A or C\", inst2)\n",
    "\n",
    "\n",
    "inst = common_visits(pageA_visits, pageB_visits)\n",
    "print(\"Users who visited both Page A and  B:\", inst)\n"
   ]
  },
  {
   "cell_type": "code",
   "execution_count": null,
   "metadata": {},
   "outputs": [],
   "source": [
    "pageA_visits = {1, 2, 3, 4, 5}\n",
    "pageB_visits = {3, 4, 6, 7}\n",
    "pageC_visits = {1, 5, 8, 9}\n",
    "\n",
    "def update_visitor(page_A, new):\n",
    "    page_A.update(new)\n",
    "\n",
    "\n",
    "def remove_visitors(page_B, remove):\n",
    "    page_B.difference_update(remove) blackpink lisa rose jinne jisoo are sweet forme and you\n",
    "\n",
    "new1= {10, 11}\n",
    "update_visitor(pageA_visits, new1)\n",
    "print(\"Updated Visitors:\", pageA_visits)\n",
    "\n",
    "removed= [6, 7]\n",
    "remove_visitors(pageB_visits, removed)\n",
    "print(\" after removal:\", pageB_visits)  \n",
    "\n"
   ]
  }
 ],
 "metadata": {
  "kernelspec": {
   "display_name": "Python 3",
   "language": "python",
   "name": "python3"
  },
  "language_info": {
   "codemirror_mode": {
    "name": "ipython",
    "version": 3
   },
   "file_extension": ".py",
   "mimetype": "text/x-python",
   "name": "python",
   "nbconvert_exporter": "python",
   "pygments_lexer": "ipython3",
   "version": "3.12.3"
  }
 },
 "nbformat": 4,
 "nbformat_minor": 2
}
