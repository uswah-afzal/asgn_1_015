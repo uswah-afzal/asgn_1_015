{
 "cells": [
  {
   "cell_type": "code",
   "execution_count": 10,
   "metadata": {},
   "outputs": [
    {
     "name": "stdout",
     "output_type": "stream",
     "text": [
      "Users with ratings 4 or higher: {1: 5, 3: 4}\n"
     ]
    }
   ],
   "source": [
    "feedback = {\n",
    "    1: {'rating': 5},\n",
    "    2: {'rating': 3},\n",
    "    3: {'rating': 4},\n",
    "    4: {'rating': 2},\n",
    "}\n",
    "def high_rank(feedback):\n",
    "    rank = {user: details['rating'] for user, details in feedback.items() if details['rating'] >= 4}\n",
    "    return rank\n",
    "\n",
    "inst = high_rank(feedback)\n",
    "print(\"Users with ratings 4 or higher:\", inst)\n"
   ]
  },
  {
   "cell_type": "code",
   "execution_count": 11,
   "metadata": {},
   "outputs": [
    {
     "name": "stdout",
     "output_type": "stream",
     "text": [
      "Top 5 users by rating: {1: {'rating': 5}, 5: {'rating': 5}, 3: {'rating': 4}, 2: {'rating': 3}, 4: {'rating': 2}}\n"
     ]
    }
   ],
   "source": [
    "feedback = {\n",
    "    1: {'rating': 5},\n",
    "    2: {'rating': 3},\n",
    "    3: {'rating': 4},\n",
    "    4: {'rating': 2},\n",
    "    5: {'rating': 5},\n",
    "    6: {'rating': 1},\n",
    "}\n",
    "\n",
    "\n",
    "def top_feedback(feedback):\n",
    "    def function(x):\n",
    "        return x[1]['rating']\n",
    "\n",
    "    sort_ = dict(sorted(feedback.items(), key=function, reverse=True)[:5])\n",
    "    return sort_\n",
    "\n",
    "inst = top_feedback(feedback)\n",
    "print(\"Top 5 users by rating:\", inst)\n"
   ]
  },
  {
   "cell_type": "code",
   "execution_count": 12,
   "metadata": {},
   "outputs": [
    {
     "name": "stdout",
     "output_type": "stream",
     "text": [
      "Users with rating greater than 3: {1: 5, 3: 4, 5: 5}\n"
     ]
    }
   ],
   "source": [
    "feedback = {\n",
    "    1: {'rating': 5},\n",
    "    2: {'rating': 3},\n",
    "    3: {'rating': 4},\n",
    "    4: {'rating': 2},\n",
    "    5: {'rating': 5},\n",
    "    6: {'rating': 1},\n",
    "}\n",
    "def greater_than_3(feedback):\n",
    "    return {user: details['rating'] for user, details in feedback.items() if details['rating'] > 3}\n",
    "\n",
    "inst = greater_than_3(feedback)\n",
    "print(\"Users with rating greater than 3:\", inst)  \n"
   ]
  },
  {
   "cell_type": "code",
   "execution_count": 13,
   "metadata": {},
   "outputs": [
    {
     "name": "stdout",
     "output_type": "stream",
     "text": [
      "Combined Feedback: {1: {'rating': 5, 'comments': ''}, 2: {'rating': 4, 'comments': ' Improved experience.'}, 3: {'rating': 5, 'comments': ' Excellent support!'}, 4: {'rating': 2, 'comments': ''}, 5: {'rating': 5, 'comments': ''}, 6: {'rating': 1, 'comments': ''}}\n"
     ]
    }
   ],
   "source": [
    "feedback = {\n",
    "    1: {'rating': 5},\n",
    "    2: {'rating': 3},\n",
    "    3: {'rating': 4},\n",
    "    4: {'rating': 2},\n",
    "    5: {'rating': 5},\n",
    "    6: {'rating': 1},\n",
    "}\n",
    "\n",
    "def combo(*feedback_dicts):\n",
    "    combined = {}\n",
    "    for feedback in feedback_dicts:\n",
    "        for user, details in feedback.items():\n",
    "            if user in combined:\n",
    "                combined[user]['rating'] = max(combined[user]['rating'], details['rating'])\n",
    "                if 'comments' in combined[user] and 'comments' in details:\n",
    "                    combined[user]['comments'] += ' ' + details['comments']\n",
    "                elif 'comments' in details:\n",
    "                    combined[user]['comments'] = details['comments']\n",
    "            else:\n",
    "                combined[user] = details.copy()\n",
    "                if 'comments' not in combined[user]:\n",
    "                    combined[user]['comments'] = ''\n",
    "    return combined\n",
    "\n",
    "additional_feedback = {\n",
    "    2: {'rating': 4, 'comments': 'Improved experience.'},\n",
    "    3: {'rating': 5, 'comments': 'Excellent support!'},\n",
    "}\n",
    "\n",
    "combined_feedback = combo(feedback, additional_feedback)\n",
    "print(\"Combined Feedback:\", combined_feedback)\n"
   ]
  }
 ],
 "metadata": {
  "kernelspec": {
   "display_name": "Python 3",
   "language": "python",
   "name": "python3"
  },
  "language_info": {
   "codemirror_mode": {
    "name": "ipython",
    "version": 3
   },
   "file_extension": ".py",
   "mimetype": "text/x-python",
   "name": "python",
   "nbconvert_exporter": "python",
   "pygments_lexer": "ipython3",
   "version": "3.12.3"
  }
 },
 "nbformat": 4,
 "nbformat_minor": 2
}
